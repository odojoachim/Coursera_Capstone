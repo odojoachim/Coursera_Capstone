{
 "cells": [
  {
   "cell_type": "markdown",
   "metadata": {},
   "source": [
    "This is coursera capstone project where using supervised learning we will learn about Collisions Severity\n",
    "\n",
    "I will use Jupyter notebooks as well as PyCharm and the reason is that Coursera asks me to use Jpuyter Notebooks when I need to practice "
   ]
  },
  {
   "cell_type": "markdown",
   "metadata": {},
   "source": [
    "**Busines Understanding**\n",
    "\n",
    "As a hospital director that plans resources you want to predict risk and severity of accidents on streets to help people that were victims of car accidents. As a head of police department you want to know how to protect citizens and patrol the streets so to limit dangerous behaviour on the streets. Aim of this project is to predict the severity of road accident so to limit the number of incidences on the way and optimize resources to protect victims. To understand this problem I will use Seatle incident data that uses metrics such as weather and road condition from 2004 to present. "
   ]
  },
  {
   "cell_type": "code",
   "execution_count": 1,
   "metadata": {},
   "outputs": [],
   "source": [
    "import pandas as np\n",
    "import numpy as np"
   ]
  },
  {
   "cell_type": "code",
   "execution_count": 2,
   "metadata": {},
   "outputs": [
    {
     "name": "stdout",
     "output_type": "stream",
     "text": [
      "Hello Capstone Project Course\n"
     ]
    }
   ],
   "source": [
    "print(\"Hello Capstone Project Course\")"
   ]
  }
 ],
 "metadata": {
  "kernelspec": {
   "display_name": "Python 3",
   "language": "python",
   "name": "python3"
  },
  "language_info": {
   "codemirror_mode": {
    "name": "ipython",
    "version": 3
   },
   "file_extension": ".py",
   "mimetype": "text/x-python",
   "name": "python",
   "nbconvert_exporter": "python",
   "pygments_lexer": "ipython3",
   "version": "3.7.0"
  }
 },
 "nbformat": 4,
 "nbformat_minor": 2
}
