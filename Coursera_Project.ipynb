{
 "cells": [
  {
   "cell_type": "markdown",
   "metadata": {},
   "source": [
    "This is coursera capstone project where using supervised learning we will learn about Collisions Severity\n",
    "\n",
    "I will use Jupyter notebooks as well as PyCharm and the reason is that Coursera asks me to use Jpuyter Notebooks when I need to practice "
   ]
  },
  {
   "cell_type": "markdown",
   "metadata": {},
   "source": [
    "**Busines Understanding**\n",
    "\n",
    "As a hospital director that plans resources you want to predict risk and severity of accidents on streets to help people that were victims of car accidents. As a head of police department you want to know how to protect citizens and patrol the streets so to limit dangerous behaviour on the streets. Aim of this project is to predict the severity of road accident so to limit the number of incidences on the way and optimize resources to protect victims. To understand this problem I will use Seatle incident data that uses metrics such as weather and road condition from 2004 to present. "
   ]
  },
  {
   "cell_type": "markdown",
   "metadata": {},
   "source": [
    "**INFO about the dataset** \n",
    "\n",
    "In the raw dataset there are 38 columns, for full list please refer to metadata. The aim is to predict severity of the accident using SeverityCode. \n",
    "\n",
    "We have 3 unique identifiers, that can be removed: OBJECTID, INCKEY, COLDETKEY. We don't need columns:  X, Y, SDOTCOLNUM and the  SEVERITYCODE.1 is the same as SEVERITY CODE\n",
    "\n",
    "In the columns: EXCEPTRSNDESC, INATTENTIONIND, PEDROWNOTGRNT, SPEEDING is more than 80% of missing values so we want to remove those. The columns that I will use for the project are:"
   ]
  },
  {
   "cell_type": "markdown",
   "metadata": {},
   "source": [
    "| Column | Description | Action |\n",
    "| --- | --- | --- |\n",
    "| **SEVERITYCODE** | A code that corresponds to severity | Use as label in classification |\n",
    "| **SEVERITYDESC** | A detailed description of the severity | |\n",
    "| **ADDRTYPE**\t| Collision address type | |\n",
    "| **LOCATION**\t| Description of the general location | Engineer this column? |\n",
    "| **COLLISIONTYPE**\t| Collision Type | |\n",
    "| **PEDCOUNT** | Numbers of pedestrians | |\n",
    "| **PEDCYCLCOUNT** | Number of bicycles | | \n",
    "| **VEHCOUNT** | Number of vehicles | |\n",
    "| **INCDATE** | Incident Date | You may want to get season ? |  \n",
    "| **INCDTTM** | Incident Time | You may want to get part of the day? |\n",
    "| **JUNCTIONTYPE** | Category of Junction | |\n",
    "| **SDOT_COLCODE** | Code given by Seatlle department of Transportation | |\n",
    "| **SDOT_COLDESC** | A description of the collision | |\n",
    "| **UNDERINTL** | Driver involved under influence of drugs or alc | |\n",
    "| **WEATHER** | Desciption of the weather\n",
    "| **ROADCOND** | Description of the road condition | |\n",
    "| **LIGHCOND** | Description of the light condition | |\n",
    "| **SPEEDING** | Speeding was a factor | |\n",
    "| **ST_COLDESC** | State collision description | For info refer to Metadata |\n",
    "| **ST_COLCODE** | State collision code | |\n",
    "| **SEGLANEKEY** | lane segment | |\n",
    "| **CROSSWALKKEY** | Crosswalk | |\n",
    "| **HITPARKEDCAR** | Collision with parked car | |"
   ]
  },
  {
   "cell_type": "markdown",
   "metadata": {},
   "source": [
    "**Hypothesis**\n",
    "\n",
    "Some features may be more important than others to predict severity. The questions that I would like to ask are:\n",
    "\n",
    "*Primary*:\n",
    "\n",
    "**H0**: If LIGHCOND is related to SEVERITYCODE then as the more light there is the less severe the accidents are\n",
    "\n",
    "**H0**: If SPEEDING cause more severe incidents then number of incidents recorded as fatality will be bigger when speeding\n",
    "\n",
    "**H0**: If SPEEDING UNDERINTL increases the number of incidents then collisions under the substance are more severe\n",
    "\n",
    "*Secondary questions*: \n",
    "\n",
    "1. Are there particular seasons that increase the severity? \n",
    "2. What was the biggest accident recorded so far? \n",
    "3. What percentage of collision involve bicycles?\n",
    "4. What percentage of collisions involved pedestrians?\n",
    "5. What kind of collisions do we have the most?\n",
    "6. One locations more dangerous than the other?\n",
    "7. Is is more likely to have incident on the intersection of the roads?\n",
    "8. What is distribution of severity?"
   ]
  },
  {
   "cell_type": "code",
   "execution_count": 1,
   "metadata": {},
   "outputs": [],
   "source": [
    "import pandas as np\n",
    "import numpy as np"
   ]
  },
  {
   "cell_type": "code",
   "execution_count": 2,
   "metadata": {},
   "outputs": [
    {
     "name": "stdout",
     "output_type": "stream",
     "text": [
      "Hello Capstone Project Course\n"
     ]
    }
   ],
   "source": [
    "print(\"Hello Capstone Project Course\")"
   ]
  }
 ],
 "metadata": {
  "kernelspec": {
   "display_name": "Python 3",
   "language": "python",
   "name": "python3"
  },
  "language_info": {
   "codemirror_mode": {
    "name": "ipython",
    "version": 3
   },
   "file_extension": ".py",
   "mimetype": "text/x-python",
   "name": "python",
   "nbconvert_exporter": "python",
   "pygments_lexer": "ipython3",
   "version": "3.7.0"
  }
 },
 "nbformat": 4,
 "nbformat_minor": 2
}
